{
 "cells": [
  {
   "cell_type": "code",
   "execution_count": 3,
   "id": "163a13d7",
   "metadata": {},
   "outputs": [
    {
     "name": "stdout",
     "output_type": "stream",
     "text": [
      "Rolling the dice...\n",
      "After rolling you get  5\n",
      "do you wish to play again\n",
      "yes(y) or no(n)\n",
      "y\n",
      "Rolling the dice...\n",
      "After rolling you get  4\n",
      "do you wish to play again\n",
      "yes(y) or no(n)\n",
      "n\n",
      "Thanks for playing\n"
     ]
    }
   ],
   "source": [
    "import random\n",
    "\n",
    "def roll():\n",
    "    min_value = 1\n",
    "    max_value = 6\n",
    "    return random.randint(min_value, max_value)\n",
    "\n",
    "def game():\n",
    "    while True:\n",
    "        print(\"Rolling the dice...\")\n",
    "        result = roll()\n",
    "        print(\"After rolling you get \", result)\n",
    "\n",
    "        choice = input(\"do you wish to play again\\nyes(y) or no(n)\\n\")\n",
    "        if choice.lower() != \"yes\" and choice.lower() != \"y\":\n",
    "            break\n",
    "\n",
    "    print(\"Thanks for playing\")\n",
    "game()\n"
   ]
  },
  {
   "cell_type": "code",
   "execution_count": null,
   "id": "dca64a47",
   "metadata": {},
   "outputs": [],
   "source": []
  },
  {
   "cell_type": "code",
   "execution_count": null,
   "id": "03ba99b4",
   "metadata": {},
   "outputs": [],
   "source": []
  }
 ],
 "metadata": {
  "kernelspec": {
   "display_name": "Python 3 (ipykernel)",
   "language": "python",
   "name": "python3"
  },
  "language_info": {
   "codemirror_mode": {
    "name": "ipython",
    "version": 3
   },
   "file_extension": ".py",
   "mimetype": "text/x-python",
   "name": "python",
   "nbconvert_exporter": "python",
   "pygments_lexer": "ipython3",
   "version": "3.10.9"
  }
 },
 "nbformat": 4,
 "nbformat_minor": 5
}
